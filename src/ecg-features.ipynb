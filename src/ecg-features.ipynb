{
 "cells": [
  {
   "cell_type": "code",
   "execution_count": 5,
   "metadata": {},
   "outputs": [
    {
     "name": "stdout",
     "output_type": "stream",
     "text": [
      "Requirement already satisfied: pyhrv in /home/idies/miniconda3/lib/python3.8/site-packages (0.4.1)\n",
      "Requirement already satisfied: biosppy in /home/idies/miniconda3/lib/python3.8/site-packages (from pyhrv) (1.0.0)\n",
      "Requirement already satisfied: nolds in /home/idies/miniconda3/lib/python3.8/site-packages (from pyhrv) (0.5.2)\n",
      "Requirement already satisfied: matplotlib in /home/idies/miniconda3/lib/python3.8/site-packages (from pyhrv) (3.3.1)\n",
      "Requirement already satisfied: spectrum in /home/idies/miniconda3/lib/python3.8/site-packages (from pyhrv) (0.8.1)\n",
      "Requirement already satisfied: scipy in /home/idies/miniconda3/lib/python3.8/site-packages (from pyhrv) (1.5.2)\n",
      "Requirement already satisfied: numpy in /home/idies/miniconda3/lib/python3.8/site-packages (from pyhrv) (1.19.1)\n",
      "Requirement already satisfied: scikit-learn in /home/idies/miniconda3/lib/python3.8/site-packages (from biosppy->pyhrv) (1.3.2)\n",
      "Requirement already satisfied: h5py in /home/idies/miniconda3/lib/python3.8/site-packages (from biosppy->pyhrv) (2.10.0)\n",
      "Requirement already satisfied: shortuuid in /home/idies/miniconda3/lib/python3.8/site-packages (from biosppy->pyhrv) (1.0.11)\n",
      "Requirement already satisfied: six in /home/idies/miniconda3/lib/python3.8/site-packages (from biosppy->pyhrv) (1.15.0)\n",
      "Requirement already satisfied: joblib in /home/idies/miniconda3/lib/python3.8/site-packages (from biosppy->pyhrv) (1.3.2)\n",
      "Requirement already satisfied: opencv-python in /home/idies/miniconda3/lib/python3.8/site-packages (from biosppy->pyhrv) (4.8.1.78)\n",
      "Requirement already satisfied: bidict in /home/idies/miniconda3/lib/python3.8/site-packages (from biosppy->pyhrv) (0.22.1)\n",
      "Requirement already satisfied: setuptools in /home/idies/miniconda3/lib/python3.8/site-packages (from nolds->pyhrv) (49.6.0.post20200814)\n",
      "Requirement already satisfied: future in /home/idies/miniconda3/lib/python3.8/site-packages (from nolds->pyhrv) (0.18.2)\n",
      "Requirement already satisfied: cycler>=0.10 in /home/idies/miniconda3/lib/python3.8/site-packages (from matplotlib->pyhrv) (0.10.0)\n",
      "Requirement already satisfied: python-dateutil>=2.1 in /home/idies/miniconda3/lib/python3.8/site-packages (from matplotlib->pyhrv) (2.8.1)\n",
      "Requirement already satisfied: kiwisolver>=1.0.1 in /home/idies/miniconda3/lib/python3.8/site-packages (from matplotlib->pyhrv) (1.2.0)\n",
      "Requirement already satisfied: certifi>=2020.06.20 in /home/idies/miniconda3/lib/python3.8/site-packages (from matplotlib->pyhrv) (2020.6.20)\n",
      "Requirement already satisfied: pyparsing!=2.0.4,!=2.1.2,!=2.1.6,>=2.0.3 in /home/idies/miniconda3/lib/python3.8/site-packages (from matplotlib->pyhrv) (2.4.7)\n",
      "Requirement already satisfied: pillow>=6.2.0 in /home/idies/miniconda3/lib/python3.8/site-packages (from matplotlib->pyhrv) (7.2.0)\n",
      "Requirement already satisfied: easydev in /home/idies/miniconda3/lib/python3.8/site-packages (from spectrum->pyhrv) (0.12.1)\n",
      "Requirement already satisfied: threadpoolctl>=2.0.0 in /home/idies/miniconda3/lib/python3.8/site-packages (from scikit-learn->biosppy->pyhrv) (2.1.0)\n",
      "Requirement already satisfied: pexpect in /home/idies/miniconda3/lib/python3.8/site-packages (from easydev->spectrum->pyhrv) (4.8.0)\n",
      "Requirement already satisfied: colorlog in /home/idies/miniconda3/lib/python3.8/site-packages (from easydev->spectrum->pyhrv) (6.7.0)\n",
      "Requirement already satisfied: colorama in /home/idies/miniconda3/lib/python3.8/site-packages (from easydev->spectrum->pyhrv) (0.4.3)\n",
      "Requirement already satisfied: ptyprocess>=0.5 in /home/idies/miniconda3/lib/python3.8/site-packages (from pexpect->easydev->spectrum->pyhrv) (0.6.0)\n",
      "Note: you may need to restart the kernel to use updated packages.\n"
     ]
    }
   ],
   "source": [
    "pip install pyhrv"
   ]
  },
  {
   "cell_type": "code",
   "execution_count": 1,
   "metadata": {},
   "outputs": [],
   "source": [
    "from matplotlib.figure import Figure\n",
    "import json\n",
    "import neurokit2 as nk\n",
    "import pyarrow.parquet as pq\n",
    "import pandas as pd\n",
    "import wfdb\n",
    "import matplotlib.pyplot as plt\n",
    "import numpy as np\n",
    "import math\n",
    "import biosppy\n",
    "import pyhrv\n",
    "import pyhrv.tools as tools\n",
    "import pyhrv.time_domain as td\n",
    "import pyhrv.frequency_domain as fd\n",
    "import pyhrv.nonlinear as nl\n",
    "import os\n",
    "import collections\n",
    "import warnings\n",
    "import numpy as np"
   ]
  },
  {
   "cell_type": "code",
   "execution_count": 2,
   "metadata": {},
   "outputs": [],
   "source": [
    "def calc_features_helper(ecg_data):\n",
    "    try:\n",
    "        # calculate R peaks and NNI\n",
    "        # NNI = normal to normal interval (between succesive R-peaks)\n",
    "        rpeaks = biosppy.signals.ecg.christov_segmenter(ecg_data, sampling_rate = 500)[0]\n",
    "        nni = tools.nn_intervals(rpeaks)\n",
    "\n",
    "        # calculate time domain, freq domain, nonlinear features\n",
    "        td_f = td.time_domain(nni).as_dict()\n",
    "        nl_f = nl.nonlinear(nni).as_dict()\n",
    "\n",
    "        # remove invalid vals\n",
    "        feat = collections.OrderedDict(list(td_f.items()) + list(nl_f.items()))\n",
    "        # keys that are known to produce inf or nan for our dataset\n",
    "        for k in [\"fft_bands\", \"lomb_bands\", \"ar_bands\", \"sdnn_index\", \"sdann\", \"sampen\", \"dfa_alpha1\", \"dfa_alpha1_beats\", \"dfa_alpha2\", \"dfa_alpha2_beats\", \"fft_plot\",\"nni_histogram\", \"lomb_plot\", \"ar_plot\", \"poincare_plot\", \"dfa_plot\", \"tachogram_plot\"]:\n",
    "            feat.pop(k, 0)\n",
    "        return feat\n",
    "    except Exception as e:\n",
    "        print(e)\n",
    "        pass"
   ]
  },
  {
   "cell_type": "code",
   "execution_count": 3,
   "metadata": {},
   "outputs": [],
   "source": [
    "def calc_features(ecg_path):\n",
    "    plt.ioff()\n",
    "    # ex ecg_path = \"SAFE/Databases/mimic-iv-ecg-parquet/10400173/06:57:00_13_01_2128_10400173.parquet\"\n",
    "    # get 12-lead data from stored parquet\n",
    "    ecg_raw = pq.read_table(ecg_path).to_pandas()\n",
    "\n",
    "    # initialize pd df that'll contain features for all leads\n",
    "    lead_features = {\"I\": calc_features_helper(pd.to_numeric(ecg_raw[\"I\"], errors = \"coerce\")),\n",
    "                    \"II\": calc_features_helper(pd.to_numeric(ecg_raw[\"II\"], errors = \"coerce\")),\n",
    "                    \"III\": calc_features_helper(pd.to_numeric(ecg_raw[\"III\"], errors = \"coerce\")),\n",
    "                    \"aVR\": calc_features_helper(pd.to_numeric(ecg_raw[\"aVR\"], errors = \"coerce\")),\n",
    "                    \"aVL\": calc_features_helper(pd.to_numeric(ecg_raw[\"aVL\"], errors = \"coerce\")),\n",
    "                    \"aVF\": calc_features_helper(pd.to_numeric(ecg_raw[\"aVF\"], errors = \"coerce\")),\n",
    "                    \"V1\": calc_features_helper(pd.to_numeric(ecg_raw[\"V1\"], errors = \"coerce\")),\n",
    "                    \"V2\": calc_features_helper(pd.to_numeric(ecg_raw[\"V2\"], errors = \"coerce\")),\n",
    "                    \"V3\": calc_features_helper(pd.to_numeric(ecg_raw[\"V3\"], errors = \"coerce\")),\n",
    "                    \"V4\": calc_features_helper(pd.to_numeric(ecg_raw[\"V4\"], errors = \"coerce\")),\n",
    "                    \"V5\": calc_features_helper(pd.to_numeric(ecg_raw[\"V5\"], errors = \"coerce\")),\n",
    "                    \"V6\": calc_features_helper(pd.to_numeric(ecg_raw[\"V6\"], errors = \"coerce\"))}\n",
    "    df = pd.DataFrame(lead_features)\n",
    "    return df"
   ]
  },
  {
   "cell_type": "code",
   "execution_count": 4,
   "metadata": {},
   "outputs": [
    {
     "name": "stdout",
     "output_type": "stream",
     "text": [
      "(26, 12)\n"
     ]
    }
   ],
   "source": [
    "# quick test of calc features\n",
    "warnings.filterwarnings(\"ignore\")\n",
    "df = calc_features(\"SAFE/Databases/mimic-iv-ecg-parquet/12839207/23:21:00_30_08_2164_12839207.parquet\")\n",
    "print(df.shape)"
   ]
  },
  {
   "cell_type": "code",
   "execution_count": 4,
   "metadata": {},
   "outputs": [],
   "source": [
    "def flatten_matrix(df, id):\n",
    "    reshaped = df.T.reset_index(drop=True)\n",
    "    flattened = reshaped.values.flatten().tolist()\n",
    "    flattened.insert(0, id)\n",
    "    res = pd.DataFrame([flattened], index=[0], columns=cols_name)\n",
    "    return res\n"
   ]
  },
  {
   "cell_type": "code",
   "execution_count": 13,
   "metadata": {},
   "outputs": [
    {
     "name": "stdout",
     "output_type": "stream",
     "text": [
      "8598\n"
     ]
    }
   ],
   "source": [
    "# for HF positive patients\n",
    "import csv\n",
    "\n",
    "# import CSV w/ list of all HF positive patient IDs\n",
    "pos_id = []\n",
    "pos_csv = open(\"SAFE/hf_pt_id.csv\", \"r\")\n",
    "for row in pos_csv:\n",
    "    pos_id.append(row[:-1])\n",
    "pos_id = pos_id[1:]\n",
    "print(len(set(pos_id)))\n",
    "\n",
    "# 8598 total pos HF patients"
   ]
  },
  {
   "cell_type": "code",
   "execution_count": 6,
   "metadata": {},
   "outputs": [],
   "source": [
    "# ignoring the warnings that get generated from features that aren't being used in our model\n",
    "warnings.filterwarnings(\"ignore\")\n",
    "\n",
    "# str_ex = \"SAFE/Databases/mimic-iv-ecg-parquet/10400173/06:57:00_13_01_2128_10400173.parquet\"\n",
    "\n"
   ]
  },
  {
   "cell_type": "code",
   "execution_count": 7,
   "metadata": {},
   "outputs": [
    {
     "name": "stdout",
     "output_type": "stream",
     "text": [
      "313\n"
     ]
    }
   ],
   "source": [
    "names = ['nni_counter', 'nni_mean', 'nni_min', 'nni_max', 'hr_mean', 'hr_min', 'hr_max', 'hr_std', 'nni_diff_mean', 'nni_diff_min', 'nni_diff_max', 'sdnn', 'rmssd', 'sdsd', 'nn50', 'pnn50', 'nn20', 'pnn20', 'tinn_n', 'tinn_m', 'tinn', 'tri_index', 'sd1', 'sd2', 'sd_ratio', 'ellipse_area']\n",
    "cols_name = [\"subject_id\"]\n",
    "count = 1\n",
    "while count != 13:\n",
    "    for name in names:\n",
    "        cols_name.append(name + \"_lead\" + str(count))\n",
    "    count+=1\n",
    "print(len(cols_name))"
   ]
  },
  {
   "cell_type": "code",
   "execution_count": 150,
   "metadata": {},
   "outputs": [
    {
     "name": "stdout",
     "output_type": "stream",
     "text": [
      "   subject_id  nni_counter_lead1  nni_mean_lead1  nni_min_lead1  \\\n",
      "0           0                  0               0              0   \n",
      "\n",
      "   nni_max_lead1  hr_mean_lead1  hr_min_lead1  hr_max_lead1  hr_std_lead1  \\\n",
      "0              0              0             0             0             0   \n",
      "\n",
      "   nni_diff_mean_lead1  ...  nn20_lead12  pnn20_lead12  tinn_n_lead12  \\\n",
      "0                    0  ...            0             0              0   \n",
      "\n",
      "   tinn_m_lead12  tinn_lead12  tri_index_lead12  sd1_lead12  sd2_lead12  \\\n",
      "0              0            0                 0           0           0   \n",
      "\n",
      "   sd_ratio_lead12  ellipse_area_lead12  \n",
      "0                0                    0  \n",
      "\n",
      "[1 rows x 313 columns]\n"
     ]
    }
   ],
   "source": [
    "# (NOTE: Don't run this cell once extraction has started\n",
    "\n",
    "# initialize feature table\n",
    "#feature_table = pd.DataFrame([[0] * 313], columns=cols_name)\n",
    "#print(feature_table)\n",
    "#feature_table.to_csv(\"SAFE/advanced_ecg_features.csv\", index=False)"
   ]
  },
  {
   "cell_type": "code",
   "execution_count": 151,
   "metadata": {},
   "outputs": [],
   "source": [
    "# DON'T RUN ABOVE CELL"
   ]
  },
  {
   "cell_type": "code",
   "execution_count": 15,
   "metadata": {},
   "outputs": [
    {
     "name": "stdout",
     "output_type": "stream",
     "text": [
      "8596\n",
      "8596\n"
     ]
    }
   ],
   "source": [
    "df = pd.read_csv(\"SAFE/advanced_ecg_features.csv\")\n",
    "extracted_df = df.drop_duplicates(subset=[\"subject_id\"])\n",
    "extracted_df.drop(columns = \"Unnamed: 0.1.1.1.1.1.1.1.1.1.1\", inplace=True)\n",
    "extracted_df.to_csv(\"SAFE/advanced_ecg_features.csv\")\n",
    "extracted = pd.read_csv(\"SAFE/advanced_ecg_features.csv\")[\"subject_id\"].tolist()\n",
    "\n",
    "# check unique length\n",
    "print(len(extracted))\n",
    "print(len(set(extracted)))"
   ]
  },
  {
   "cell_type": "code",
   "execution_count": 19,
   "metadata": {},
   "outputs": [
    {
     "name": "stdout",
     "output_type": "stream",
     "text": [
      "0\n",
      "0\n",
      "0\n"
     ]
    }
   ],
   "source": [
    "# extract advanced ecg features for pos HF patients \n",
    "# extract in chunks (# = counter) to preserve kernel\n",
    "counter = 0\n",
    "batch = 0 # change this\n",
    "for id in pos_id:\n",
    "    if counter !=batch:\n",
    "        if int(id) not in extracted:\n",
    "            path = \"SAFE/Databases/mimic-iv-ecg-parquet/\" + id\n",
    "            if os.path.exists(path):\n",
    "                print(path)\n",
    "                entries = os.scandir(path)\n",
    "                files = [entry.path for entry in entries if entry.is_file()]\n",
    "\n",
    "                # extract features (use the first recording)\n",
    "                features_full = calc_features(min(files))\n",
    "                features = flatten_matrix(features_full, min(files).split(\"/\")[3])\n",
    "                features2 = features.fillna(value=np.nan)     \n",
    "\n",
    "                # concat here to the main table   \n",
    "                curr_table = pd.read_csv(\"SAFE/advanced_ecg_features.csv\")\n",
    "                new_table = pd.concat([curr_table, features2])\n",
    "                new_table.to_csv(\"SAFE/advanced_ecg_features.csv\", index=False)\n",
    "                print(curr_table.shape)\n",
    "\n",
    "                # for progress purposes\n",
    "                counter+=1\n",
    "            print(counter)"
   ]
  },
  {
   "cell_type": "code",
   "execution_count": 26,
   "metadata": {},
   "outputs": [],
   "source": [
    "# duplicate clean up and save\n",
    "df = pd.read_csv(\"SAFE/advanced_ecg_features.csv\")\n",
    "df2 = df.drop(columns = [\"Unnamed: 0.1.1.1.1.1.1.1.1.1.1.1.1.1.1\", \"Unnamed: 0.1.1.1.1.1.1.1.1.1.1.1.1.1\", \"Unnamed: 0.1.1.1.1.1.1.1.1.1.1.1.1.1\", \"Unnamed: 0.1.1.1.1.1.1.1.1.1.1.1.1\", \"Unnamed: 0.1.1.1.1.1.1.1.1.1.1.1\", \"Unnamed: 0.1.1.1.1.1.1.1.1.1.1\", \"Unnamed: 0.1.1.1.1.1.1.1.1.1\", \"Unnamed: 0.1.1.1.1.1.1.1.1\", \"Unnamed: 0.1.1.1.1.1.1.1\", \"Unnamed: 0.1.1.1.1.1.1\", \"Unnamed: 0.1.1.1.1.1\", \"Unnamed: 0.1.1.1.1\", \"Unnamed: 0.1.1.1\", \"Unnamed: 0.1.1\", \"Unnamed: 0.1\", \"Unnamed: 0\"], inplace=False)\n",
    "df2.to_csv(\"SAFE/adv_ecg_features_hf_pos.csv\")\n"
   ]
  },
  {
   "cell_type": "code",
   "execution_count": 46,
   "metadata": {},
   "outputs": [
    {
     "name": "stdout",
     "output_type": "stream",
     "text": [
      "[ 0.075  0.065  0.055 ... -0.02  -0.025 -0.025]\n"
     ]
    },
    {
     "data": {
      "image/png": "[encoded data removed]",
      "text/plain": [
       "<Figure size 432x288 with 1 Axes>"
      ]
     },
     "metadata": {
      "needs_background": "light"
     },
     "output_type": "display_data"
    }
   ],
   "source": [
    "# sanityabove ecg lead visualized\n",
    "ecg_path = \"SAFE/Databases/mimic-iv-ecg-parquet/10400173/06:57:00_13_01_2128_10400173.parquet\"\n",
    "record = wfdb.rdrecord(\"SAFE/Databases/mimic-iv-ecg-diagnostic-electrocardiogram-matched-subset-1.0/files/p1040/p10400173/s43577400/43577400\")\n",
    "lead = record.p_signal[:, record.sig_name.index(\"I\")]\n",
    "print(lead)\n",
    "plt.plot(lead)\n",
    "plt.show()"
   ]
  },
  {
   "cell_type": "code",
   "execution_count": null,
   "metadata": {},
   "outputs": [],
   "source": []
  }
 ],
 "metadata": {
  "kernelspec": {
   "display_name": "Python 3",
   "language": "python",
   "name": "python3"
  },
  "language_info": {
   "codemirror_mode": {
    "name": "ipython",
    "version": 3
   },
   "file_extension": ".py",
   "mimetype": "text/x-python",
   "name": "python",
   "nbconvert_exporter": "python",
   "pygments_lexer": "ipython3",
   "version": "3.8.5"
  }
 },
 "nbformat": 4,
 "nbformat_minor": 4
}
