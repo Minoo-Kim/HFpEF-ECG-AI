{
 "cells": [
  {
   "cell_type": "code",
   "execution_count": 1,
   "id": "0996c191-c885-4ecb-bd86-d3b03c01bd3c",
   "metadata": {},
   "outputs": [
    {
     "name": "stdin",
     "output_type": "stream",
     "text": [
      "Password for mkim239:  ········\n",
      "Please enter the name of your SAFE Desktop project folder :  LCICM\n"
     ]
    }
   ],
   "source": [
    "import csv\n",
    "import subprocess\n",
    "import getpass\n",
    "import os\n",
    "import gzip\n",
    "from os import listdir\n",
    "from os.path import isfile, join\n",
    "from SciServer import Authentication\n",
    "\n",
    "myUserName = Authentication.getKeystoneUserWithToken(Authentication.getToken()).userName\n",
    "passwd = getpass.getpass('Password for ' + myUserName + ': ')\n",
    "userstring = \"username=\" + myUserName + \",workgroup=win,uid=idies,password=\" + passwd\n",
    "projectname = input(\"Please enter the name of your SAFE Desktop project folder : \") \n",
    "dir = \"//cloud.nas.jh.edu/sddesktop$/\" + projectname\n",
    "devnull = open(os.devnull, 'w')\n",
    "subprocess.run([\"sudo\", \"mkdir\", \"/home/idies/workspace/SAFE\"], capture_output=False)\n",
    "subprocess.run([\"sudo\", \"chown\", \"idies:idies\", \"/home/idies/workspace/SAFE/\"], capture_output=False)\n",
    "try:\n",
    "    subprocess.run([\"sudo\", \"mount\", \"-t\", \"cifs\", dir, \"/home/idies/workspace/SAFE/\", \"-o\", userstring], stdout=devnull, stderr=devnull)\n",
    "except FileNotFoundError as e:\n",
    "    print(e)"
   ]
  },
  {
   "cell_type": "code",
   "execution_count": 39,
   "id": "450edbff-916f-4758-a519-ec139b5ba8e0",
   "metadata": {},
   "outputs": [],
   "source": [
    "import pandas as pd\n",
    "import numpy as np\n",
    "from scipy.signal import butter, filtfilt\n",
    "import gc\n",
    "import pyarrow\n",
    "import fastparquet\n",
    "\n",
    "def high_pass_filter(signal, cutoff=0.5, fs=500, order=3):\n",
    "    nyquist = 0.5 * fs\n",
    "    normal_cutoff = cutoff / nyquist\n",
    "    b, a = butter(order, normal_cutoff, btype=\"high\", analog=False)\n",
    "    filtered_signal = filtfilt(b, a, signal)\n",
    "    return filtered_signal\n",
    "\n",
    "def process_ecg(input_path, output_path):\n",
    "    df = pd.read_parquet(input_path)\n",
    "\n",
    "    for column in df.columns:\n",
    "        df[column] = df[column].fillna(df[column].mean())\n",
    "        df[column] = high_pass_filter(df[column].values)\n",
    "\n",
    "    # impute missing values\n",
    "    df.to_parquet(output_path)"
   ]
  },
  {
   "cell_type": "code",
   "execution_count": 41,
   "id": "aaa679b8-58ee-43c7-bb74-13197d346053",
   "metadata": {},
   "outputs": [
    {
     "name": "stdout",
     "output_type": "stream",
     "text": [
      "21439\n",
      "13:45:00_11_01_2110_18106347\n"
     ]
    }
   ],
   "source": [
    "ids = pd.read_csv(\"SAFE/hf_ecg_list_id.csv\")[\"formatted_time\"]\n",
    "print(len(ids))\n",
    "print(ids[0])\n",
    "extracted = []"
   ]
  },
  {
   "cell_type": "code",
   "execution_count": 44,
   "id": "5bbf57ec-144c-45ef-8ce4-0a870fab4d36",
   "metadata": {},
   "outputs": [
    {
     "data": {
      "text/plain": [
       "0"
      ]
     },
     "execution_count": 44,
     "metadata": {},
     "output_type": "execute_result"
    }
   ],
   "source": [
    "# extract advanced ecg features for pos HF patients \n",
    "# extract in chunks (# = counter) to preserve kernel\n",
    "counter = 0\n",
    "batch = 1000 # change this\n",
    "for id in ids:\n",
    "    if id not in extracted:\n",
    "        path = \"SAFE/Databases/mimic-iv-ecg-parquet/\" + id.split(\"_\")[-1] + \"/\" + id + \".parquet\"\n",
    "        if os.path.exists(path):    \n",
    "            # do preprocessing\n",
    "            process_ecg(path, \"SAFE/Databases/ecg_preprocessed/\" + id)\n",
    "\n",
    "            # add counters\n",
    "            counter+=1\n",
    "            extracted.append(id)\n",
    "\n",
    "gc.collect()"
   ]
  },
  {
   "cell_type": "code",
   "execution_count": 45,
   "id": "d14e8016-b4ee-4445-b54a-29043e8474ab",
   "metadata": {},
   "outputs": [
    {
     "name": "stdout",
     "output_type": "stream",
     "text": [
      "21425\n"
     ]
    }
   ],
   "source": [
    "print(len(os.listdir(\"SAFE/Databases/ecg_preprocessed\")))"
   ]
  },
  {
   "cell_type": "code",
   "execution_count": null,
   "id": "d85967cf-8f1e-4a4c-8457-9c4780045774",
   "metadata": {},
   "outputs": [],
   "source": []
  }
 ],
 "metadata": {
  "kernelspec": {
   "display_name": "Python 3 (ipykernel)",
   "language": "python",
   "name": "python3"
  },
  "language_info": {
   "codemirror_mode": {
    "name": "ipython",
    "version": 3
   },
   "file_extension": ".py",
   "mimetype": "text/x-python",
   "name": "python",
   "nbconvert_exporter": "python",
   "pygments_lexer": "ipython3",
   "version": "3.9.17"
  }
 },
 "nbformat": 4,
 "nbformat_minor": 5
}
