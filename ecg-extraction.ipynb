{
 "cells": [
  {
   "cell_type": "code",
   "execution_count": 2,
   "metadata": {},
   "outputs": [
    {
     "name": "stdout",
     "output_type": "stream",
     "text": [
      "hello2\n"
     ]
    }
   ],
   "source": [
    "print(\"hello2\")"
   ]
  },
  {
   "cell_type": "code",
   "execution_count": 3,
   "metadata": {},
   "outputs": [
    {
     "name": "stdin",
     "output_type": "stream",
     "text": [
      "Password for mkim239:  ··········\n",
      "Please enter the name of your SAFE Desktop project folder :  LCICM\n"
     ]
    }
   ],
   "source": [
    "import csv\n",
    "import subprocess\n",
    "import getpass\n",
    "import os\n",
    "import gzip\n",
    "from os import listdir\n",
    "from os.path import isfile, join\n",
    "from SciServer import Authentication\n",
    "\n",
    "myUserName = Authentication.getKeystoneUserWithToken(Authentication.getToken()).userName\n",
    "passwd = getpass.getpass('Password for ' + myUserName + ': ')\n",
    "userstring = \"username=\" + myUserName + \",workgroup=win,uid=idies,password=\" + passwd\n",
    "projectname = input(\"Please enter the name of your SAFE Desktop project folder : \") \n",
    "dir = \"//cloud.nas.jh.edu/sddesktop$/\" + projectname\n",
    "devnull = open(os.devnull, 'w')\n",
    "subprocess.run([\"sudo\", \"mkdir\", \"/home/idies/workspace/SAFE\"], capture_output=False)\n",
    "subprocess.run([\"sudo\", \"chown\", \"idies:idies\", \"/home/idies/workspace/SAFE/\"], capture_output=False)\n",
    "try:\n",
    "    subprocess.run([\"sudo\", \"mount\", \"-t\", \"cifs\", dir, \"/home/idies/workspace/SAFE/\", \"-o\", userstring], stdout=devnull, stderr=devnull)\n",
    "except FileNotFoundError as e:\n",
    "    print(e)"
   ]
  },
  {
   "cell_type": "code",
   "execution_count": 33,
   "metadata": {},
   "outputs": [
    {
     "name": "stdout",
     "output_type": "stream",
     "text": [
      "1000\n"
     ]
    }
   ],
   "source": [
    "# extracting patient_id of patients that have ECG recordings\n",
    "# UPDATE: changing to patients that have 12-lead ECG recordings\n",
    "patient_groups = [ f.path for f in os.scandir('SAFE/Databases/mimic-iv-ecg-diagnostic-electrocardiogram-matched-subset-1.0/files/') if f.is_dir ]\n",
    "print(len(patient_groups))"
   ]
  },
  {
   "cell_type": "code",
   "execution_count": 4,
   "metadata": {},
   "outputs": [
    {
     "name": "stdout",
     "output_type": "stream",
     "text": [
      "Requirement already satisfied: wfdb in /home/idies/miniconda3/lib/python3.8/site-packages (4.1.2)\n",
      "Requirement already satisfied: pandas in /home/idies/miniconda3/lib/python3.8/site-packages (1.1.2)\n",
      "Requirement already satisfied: pyarrow in /home/idies/miniconda3/lib/python3.8/site-packages (13.0.0)\n",
      "Requirement already satisfied: SoundFile>=0.10.0 in /home/idies/miniconda3/lib/python3.8/site-packages (from wfdb) (0.12.1)\n",
      "Requirement already satisfied: scipy>=1.0.0 in /home/idies/miniconda3/lib/python3.8/site-packages (from wfdb) (1.5.2)\n",
      "Requirement already satisfied: matplotlib>=3.2.2 in /home/idies/miniconda3/lib/python3.8/site-packages (from wfdb) (3.3.1)\n",
      "Requirement already satisfied: requests>=2.8.1 in /home/idies/miniconda3/lib/python3.8/site-packages (from wfdb) (2.24.0)\n",
      "Requirement already satisfied: numpy>=1.10.1 in /home/idies/miniconda3/lib/python3.8/site-packages (from wfdb) (1.19.1)\n",
      "Requirement already satisfied: pytz>=2017.2 in /home/idies/miniconda3/lib/python3.8/site-packages (from pandas) (2020.1)\n",
      "Requirement already satisfied: python-dateutil>=2.7.3 in /home/idies/miniconda3/lib/python3.8/site-packages (from pandas) (2.8.1)\n",
      "Requirement already satisfied: cffi>=1.0 in /home/idies/miniconda3/lib/python3.8/site-packages (from SoundFile>=0.10.0->wfdb) (1.14.1)\n",
      "Requirement already satisfied: cycler>=0.10 in /home/idies/miniconda3/lib/python3.8/site-packages (from matplotlib>=3.2.2->wfdb) (0.10.0)\n",
      "Requirement already satisfied: pyparsing!=2.0.4,!=2.1.2,!=2.1.6,>=2.0.3 in /home/idies/miniconda3/lib/python3.8/site-packages (from matplotlib>=3.2.2->wfdb) (2.4.7)\n",
      "Requirement already satisfied: certifi>=2020.06.20 in /home/idies/miniconda3/lib/python3.8/site-packages (from matplotlib>=3.2.2->wfdb) (2020.6.20)\n",
      "Requirement already satisfied: pillow>=6.2.0 in /home/idies/miniconda3/lib/python3.8/site-packages (from matplotlib>=3.2.2->wfdb) (7.2.0)\n",
      "Requirement already satisfied: kiwisolver>=1.0.1 in /home/idies/miniconda3/lib/python3.8/site-packages (from matplotlib>=3.2.2->wfdb) (1.2.0)\n",
      "Requirement already satisfied: idna<3,>=2.5 in /home/idies/miniconda3/lib/python3.8/site-packages (from requests>=2.8.1->wfdb) (2.10)\n",
      "Requirement already satisfied: urllib3!=1.25.0,!=1.25.1,<1.26,>=1.21.1 in /home/idies/miniconda3/lib/python3.8/site-packages (from requests>=2.8.1->wfdb) (1.25.10)\n",
      "Requirement already satisfied: chardet<4,>=3.0.2 in /home/idies/miniconda3/lib/python3.8/site-packages (from requests>=2.8.1->wfdb) (3.0.4)\n",
      "Requirement already satisfied: six>=1.5 in /home/idies/miniconda3/lib/python3.8/site-packages (from python-dateutil>=2.7.3->pandas) (1.15.0)\n",
      "Requirement already satisfied: pycparser in /home/idies/miniconda3/lib/python3.8/site-packages (from cffi>=1.0->SoundFile>=0.10.0->wfdb) (2.20)\n",
      "Note: you may need to restart the kernel to use updated packages.\n"
     ]
    }
   ],
   "source": [
    "pip install wfdb pandas pyarrow"
   ]
  },
  {
   "cell_type": "code",
   "execution_count": 7,
   "metadata": {},
   "outputs": [
    {
     "name": "stdout",
     "output_type": "stream",
     "text": [
      "import successful\n"
     ]
    }
   ],
   "source": [
    "import wfdb\n",
    "import pandas as pd\n",
    "import pyarrow\n",
    "print(\"import successful\")"
   ]
  },
  {
   "cell_type": "code",
   "execution_count": 13,
   "metadata": {},
   "outputs": [
    {
     "data": {
      "text/html": [
       "<div>\n",
       "<style scoped>\n",
       "    .dataframe tbody tr th:only-of-type {\n",
       "        vertical-align: middle;\n",
       "    }\n",
       "\n",
       "    .dataframe tbody tr th {\n",
       "        vertical-align: top;\n",
       "    }\n",
       "\n",
       "    .dataframe thead th {\n",
       "        text-align: right;\n",
       "    }\n",
       "</style>\n",
       "<table border=\"1\" class=\"dataframe\">\n",
       "  <thead>\n",
       "    <tr style=\"text-align: right;\">\n",
       "      <th></th>\n",
       "      <th>I</th>\n",
       "      <th>II</th>\n",
       "      <th>III</th>\n",
       "      <th>aVR</th>\n",
       "      <th>aVL</th>\n",
       "      <th>aVF</th>\n",
       "      <th>V1</th>\n",
       "      <th>V2</th>\n",
       "      <th>V3</th>\n",
       "      <th>V4</th>\n",
       "      <th>V5</th>\n",
       "      <th>V6</th>\n",
       "    </tr>\n",
       "  </thead>\n",
       "  <tbody>\n",
       "    <tr>\n",
       "      <th>0</th>\n",
       "      <td>-0.155</td>\n",
       "      <td>0.01</td>\n",
       "      <td>0.150</td>\n",
       "      <td>0.070</td>\n",
       "      <td>0.075</td>\n",
       "      <td>-0.140</td>\n",
       "      <td>0.040</td>\n",
       "      <td>0.040</td>\n",
       "      <td>0.010</td>\n",
       "      <td>0.040</td>\n",
       "      <td>0.080</td>\n",
       "      <td>0.020</td>\n",
       "    </tr>\n",
       "    <tr>\n",
       "      <th>1</th>\n",
       "      <td>-0.170</td>\n",
       "      <td>0.01</td>\n",
       "      <td>0.165</td>\n",
       "      <td>0.075</td>\n",
       "      <td>0.085</td>\n",
       "      <td>-0.160</td>\n",
       "      <td>0.055</td>\n",
       "      <td>0.055</td>\n",
       "      <td>0.020</td>\n",
       "      <td>0.030</td>\n",
       "      <td>0.080</td>\n",
       "      <td>0.020</td>\n",
       "    </tr>\n",
       "    <tr>\n",
       "      <th>2</th>\n",
       "      <td>-0.170</td>\n",
       "      <td>0.00</td>\n",
       "      <td>0.155</td>\n",
       "      <td>0.080</td>\n",
       "      <td>0.075</td>\n",
       "      <td>-0.155</td>\n",
       "      <td>0.060</td>\n",
       "      <td>0.055</td>\n",
       "      <td>0.030</td>\n",
       "      <td>0.025</td>\n",
       "      <td>0.080</td>\n",
       "      <td>0.010</td>\n",
       "    </tr>\n",
       "    <tr>\n",
       "      <th>3</th>\n",
       "      <td>-0.170</td>\n",
       "      <td>0.00</td>\n",
       "      <td>0.155</td>\n",
       "      <td>0.080</td>\n",
       "      <td>0.075</td>\n",
       "      <td>-0.155</td>\n",
       "      <td>0.055</td>\n",
       "      <td>0.055</td>\n",
       "      <td>0.030</td>\n",
       "      <td>0.020</td>\n",
       "      <td>0.080</td>\n",
       "      <td>0.010</td>\n",
       "    </tr>\n",
       "    <tr>\n",
       "      <th>4</th>\n",
       "      <td>-0.170</td>\n",
       "      <td>0.00</td>\n",
       "      <td>0.155</td>\n",
       "      <td>0.080</td>\n",
       "      <td>0.075</td>\n",
       "      <td>-0.155</td>\n",
       "      <td>0.050</td>\n",
       "      <td>0.055</td>\n",
       "      <td>0.030</td>\n",
       "      <td>0.020</td>\n",
       "      <td>0.080</td>\n",
       "      <td>0.010</td>\n",
       "    </tr>\n",
       "    <tr>\n",
       "      <th>...</th>\n",
       "      <td>...</td>\n",
       "      <td>...</td>\n",
       "      <td>...</td>\n",
       "      <td>...</td>\n",
       "      <td>...</td>\n",
       "      <td>...</td>\n",
       "      <td>...</td>\n",
       "      <td>...</td>\n",
       "      <td>...</td>\n",
       "      <td>...</td>\n",
       "      <td>...</td>\n",
       "      <td>...</td>\n",
       "    </tr>\n",
       "    <tr>\n",
       "      <th>4995</th>\n",
       "      <td>-0.050</td>\n",
       "      <td>0.01</td>\n",
       "      <td>0.045</td>\n",
       "      <td>0.015</td>\n",
       "      <td>0.025</td>\n",
       "      <td>-0.040</td>\n",
       "      <td>-0.005</td>\n",
       "      <td>0.010</td>\n",
       "      <td>-0.030</td>\n",
       "      <td>-0.015</td>\n",
       "      <td>-0.010</td>\n",
       "      <td>-0.190</td>\n",
       "    </tr>\n",
       "    <tr>\n",
       "      <th>4996</th>\n",
       "      <td>-0.045</td>\n",
       "      <td>0.01</td>\n",
       "      <td>0.040</td>\n",
       "      <td>0.015</td>\n",
       "      <td>0.020</td>\n",
       "      <td>-0.035</td>\n",
       "      <td>-0.010</td>\n",
       "      <td>0.000</td>\n",
       "      <td>-0.040</td>\n",
       "      <td>-0.020</td>\n",
       "      <td>-0.015</td>\n",
       "      <td>-0.195</td>\n",
       "    </tr>\n",
       "    <tr>\n",
       "      <th>4997</th>\n",
       "      <td>-0.045</td>\n",
       "      <td>0.01</td>\n",
       "      <td>0.040</td>\n",
       "      <td>0.015</td>\n",
       "      <td>0.020</td>\n",
       "      <td>-0.035</td>\n",
       "      <td>-0.020</td>\n",
       "      <td>-0.015</td>\n",
       "      <td>-0.045</td>\n",
       "      <td>-0.020</td>\n",
       "      <td>-0.020</td>\n",
       "      <td>-0.200</td>\n",
       "    </tr>\n",
       "    <tr>\n",
       "      <th>4998</th>\n",
       "      <td>-0.055</td>\n",
       "      <td>0.00</td>\n",
       "      <td>0.040</td>\n",
       "      <td>0.025</td>\n",
       "      <td>0.015</td>\n",
       "      <td>-0.040</td>\n",
       "      <td>-0.010</td>\n",
       "      <td>-0.015</td>\n",
       "      <td>-0.045</td>\n",
       "      <td>-0.020</td>\n",
       "      <td>-0.020</td>\n",
       "      <td>-0.200</td>\n",
       "    </tr>\n",
       "    <tr>\n",
       "      <th>4999</th>\n",
       "      <td>-0.075</td>\n",
       "      <td>-0.01</td>\n",
       "      <td>0.050</td>\n",
       "      <td>0.040</td>\n",
       "      <td>0.015</td>\n",
       "      <td>-0.055</td>\n",
       "      <td>0.000</td>\n",
       "      <td>-0.015</td>\n",
       "      <td>-0.030</td>\n",
       "      <td>-0.020</td>\n",
       "      <td>-0.020</td>\n",
       "      <td>-0.200</td>\n",
       "    </tr>\n",
       "  </tbody>\n",
       "</table>\n",
       "<p>5000 rows × 12 columns</p>\n",
       "</div>"
      ],
      "text/plain": [
       "          I    II    III    aVR    aVL    aVF     V1     V2     V3     V4  \\\n",
       "0    -0.155  0.01  0.150  0.070  0.075 -0.140  0.040  0.040  0.010  0.040   \n",
       "1    -0.170  0.01  0.165  0.075  0.085 -0.160  0.055  0.055  0.020  0.030   \n",
       "2    -0.170  0.00  0.155  0.080  0.075 -0.155  0.060  0.055  0.030  0.025   \n",
       "3    -0.170  0.00  0.155  0.080  0.075 -0.155  0.055  0.055  0.030  0.020   \n",
       "4    -0.170  0.00  0.155  0.080  0.075 -0.155  0.050  0.055  0.030  0.020   \n",
       "...     ...   ...    ...    ...    ...    ...    ...    ...    ...    ...   \n",
       "4995 -0.050  0.01  0.045  0.015  0.025 -0.040 -0.005  0.010 -0.030 -0.015   \n",
       "4996 -0.045  0.01  0.040  0.015  0.020 -0.035 -0.010  0.000 -0.040 -0.020   \n",
       "4997 -0.045  0.01  0.040  0.015  0.020 -0.035 -0.020 -0.015 -0.045 -0.020   \n",
       "4998 -0.055  0.00  0.040  0.025  0.015 -0.040 -0.010 -0.015 -0.045 -0.020   \n",
       "4999 -0.075 -0.01  0.050  0.040  0.015 -0.055  0.000 -0.015 -0.030 -0.020   \n",
       "\n",
       "         V5     V6  \n",
       "0     0.080  0.020  \n",
       "1     0.080  0.020  \n",
       "2     0.080  0.010  \n",
       "3     0.080  0.010  \n",
       "4     0.080  0.010  \n",
       "...     ...    ...  \n",
       "4995 -0.010 -0.190  \n",
       "4996 -0.015 -0.195  \n",
       "4997 -0.020 -0.200  \n",
       "4998 -0.020 -0.200  \n",
       "4999 -0.020 -0.200  \n",
       "\n",
       "[5000 rows x 12 columns]"
      ]
     },
     "execution_count": 13,
     "metadata": {},
     "output_type": "execute_result"
    }
   ],
   "source": [
    "def make_parquet(record_name, parquet_name):\n",
    "    # ex record name: 'SAFE/Databases/mimic-iv-ecg-diagnostic-electrocardiogram-matched-subset-1.0/files/p1000/p10000032/s40689238/40689238'\n",
    "    record = wfdb.rdrecord(record_name)\n",
    "    ecg_data = record.p_signal\n",
    "    lead_names = ['I', 'II', 'III', 'aVR', 'aVL', 'aVF', 'V1', 'V2', 'V3', 'V4', 'V5', 'V6']\n",
    "    ecg_df = pd.DataFrame(data=ecg_data, columns=lead_names)    \n",
    "    ecg_df.to_parquet(parquet_name, index=False, engine='pyarrow')"
   ]
  },
  {
   "cell_type": "code",
   "execution_count": 30,
   "metadata": {},
   "outputs": [],
   "source": [
    "def get_time_ecg(file_path):\n",
    "    with open(file_path, 'r') as file:\n",
    "        # get time\n",
    "        lines = file.readlines()\n",
    "        first_line = lines[0].split()\n",
    "        time = first_line[-2:]\n",
    "        time = '_'.join(time)\n",
    "        \n",
    "        # get patient id\n",
    "        last_line = lines[-1].split()\n",
    "        patient_id = last_line[-1]\n",
    "        full_name = patient_id + \"_\" + time + \".parquet\"\n",
    "        \n",
    "        # TODO:\n",
    "        # ADD FILE PATH FOR WHERE TO STORE PARQUET HERE:\n",
    "        return full_name\n",
    "    "
   ]
  },
  {
   "cell_type": "code",
   "execution_count": 31,
   "metadata": {},
   "outputs": [
    {
     "name": "stdout",
     "output_type": "stream",
     "text": [
      "10000032_08:44:00_23/07/2180.parquet\n"
     ]
    }
   ],
   "source": [
    "print(get_time_ecg('SAFE/Databases/mimic-iv-ecg-diagnostic-electrocardiogram-matched-subset-1.0/files/p1000/p10000032/s40689238/40689238.hea'))"
   ]
  },
  {
   "cell_type": "code",
   "execution_count": 34,
   "metadata": {},
   "outputs": [
    {
     "name": "stdout",
     "output_type": "stream",
     "text": [
      "160720\n"
     ]
    }
   ],
   "source": [
    "# basic ECG count & extracting the full list of patient IDs\n",
    "ecg_ids = []\n",
    "for patient_group in patient_groups:\n",
    "    for f in os.scandir(patient_group):\n",
    "        if f.is_dir():\n",
    "            ecg_ids.append(int(f.name[1:]))\n",
    "print(len(ecg_ids))"
   ]
  },
  {
   "cell_type": "code",
   "execution_count": null,
   "metadata": {},
   "outputs": [],
   "source": [
    "# basic ECG count & extracting the full list of patient IDs\n",
    "ecg_ids = []\n",
    "# every patient group\n",
    "for patient_group in patient_groups:\n",
    "    # every patient\n",
    "    for f in os.scandir(patient_group):\n",
    "        if f.is_dir():\n",
    "            # every study id\n",
    "            for f2 in os.scandir(f):\n",
    "                if f2.is_dir():\n",
    "                    # 0 => .dat file \n",
    "                    # 1 => .hea file\n",
    "                    files = os.listdir(f2)\n",
    "                    dat = os.path.join(f2, files[0])\n",
    "                    hea = os.path.join(f2, files[1])\n",
    "                    parquet_name = get_time_ecg(hea)\n",
    "                    make_parquet(dat, parquet_name)\n",
    "    break"
   ]
  },
  {
   "cell_type": "code",
   "execution_count": null,
   "metadata": {},
   "outputs": [],
   "source": []
  }
 ],
 "metadata": {
  "kernelspec": {
   "display_name": "Python 3",
   "language": "python",
   "name": "python3"
  },
  "language_info": {
   "codemirror_mode": {
    "name": "ipython",
    "version": 3
   },
   "file_extension": ".py",
   "mimetype": "text/x-python",
   "name": "python",
   "nbconvert_exporter": "python",
   "pygments_lexer": "ipython3",
   "version": "3.8.5"
  }
 },
 "nbformat": 4,
 "nbformat_minor": 4
}
