{
 "cells": [
  {
   "cell_type": "code",
   "execution_count": 1,
   "metadata": {},
   "outputs": [
    {
     "name": "stdout",
     "output_type": "stream",
     "text": [
      "Collecting neurokit2\n",
      "  Downloading neurokit2-0.2.6-py2.py3-none-any.whl (1.3 MB)\n",
      "\u001b[K     |████████████████████████████████| 1.3 MB 5.7 MB/s eta 0:00:01\n",
      "\u001b[?25hRequirement already satisfied: scipy in /home/idies/miniconda3/lib/python3.8/site-packages (from neurokit2) (1.5.2)\n",
      "Requirement already satisfied: matplotlib in /home/idies/miniconda3/lib/python3.8/site-packages (from neurokit2) (3.3.1)\n",
      "Collecting scikit-learn>=1.0.0\n",
      "  Downloading scikit_learn-1.3.2-cp38-cp38-manylinux_2_17_x86_64.manylinux2014_x86_64.whl (11.1 MB)\n",
      "\u001b[K     |████████████████████████████████| 11.1 MB 79.1 MB/s eta 0:00:01\n",
      "\u001b[?25hRequirement already satisfied: numpy in /home/idies/miniconda3/lib/python3.8/site-packages (from neurokit2) (1.19.1)\n",
      "Requirement already satisfied: pandas in /home/idies/miniconda3/lib/python3.8/site-packages (from neurokit2) (1.1.2)\n",
      "Requirement already satisfied: python-dateutil>=2.1 in /home/idies/miniconda3/lib/python3.8/site-packages (from matplotlib->neurokit2) (2.8.1)\n",
      "Requirement already satisfied: cycler>=0.10 in /home/idies/miniconda3/lib/python3.8/site-packages (from matplotlib->neurokit2) (0.10.0)\n",
      "Requirement already satisfied: pillow>=6.2.0 in /home/idies/miniconda3/lib/python3.8/site-packages (from matplotlib->neurokit2) (7.2.0)\n",
      "Requirement already satisfied: pyparsing!=2.0.4,!=2.1.2,!=2.1.6,>=2.0.3 in /home/idies/miniconda3/lib/python3.8/site-packages (from matplotlib->neurokit2) (2.4.7)\n",
      "Requirement already satisfied: kiwisolver>=1.0.1 in /home/idies/miniconda3/lib/python3.8/site-packages (from matplotlib->neurokit2) (1.2.0)\n",
      "Requirement already satisfied: certifi>=2020.06.20 in /home/idies/miniconda3/lib/python3.8/site-packages (from matplotlib->neurokit2) (2020.6.20)\n",
      "Collecting joblib>=1.1.1\n",
      "  Downloading joblib-1.3.2-py3-none-any.whl (302 kB)\n",
      "\u001b[K     |████████████████████████████████| 302 kB 84.7 MB/s eta 0:00:01\n",
      "\u001b[?25hRequirement already satisfied: threadpoolctl>=2.0.0 in /home/idies/miniconda3/lib/python3.8/site-packages (from scikit-learn>=1.0.0->neurokit2) (2.1.0)\n",
      "Requirement already satisfied: pytz>=2017.2 in /home/idies/miniconda3/lib/python3.8/site-packages (from pandas->neurokit2) (2020.1)\n",
      "Requirement already satisfied: six>=1.5 in /home/idies/miniconda3/lib/python3.8/site-packages (from python-dateutil>=2.1->matplotlib->neurokit2) (1.15.0)\n",
      "Installing collected packages: joblib, scikit-learn, neurokit2\n",
      "  Attempting uninstall: joblib\n",
      "    Found existing installation: joblib 0.16.0\n",
      "    Uninstalling joblib-0.16.0:\n",
      "      Successfully uninstalled joblib-0.16.0\n",
      "  Attempting uninstall: scikit-learn\n",
      "    Found existing installation: scikit-learn 0.23.2\n",
      "    Uninstalling scikit-learn-0.23.2:\n",
      "      Successfully uninstalled scikit-learn-0.23.2\n",
      "Successfully installed joblib-1.3.2 neurokit2-0.2.6 scikit-learn-1.3.2\n",
      "Note: you may need to restart the kernel to use updated packages.\n"
     ]
    }
   ],
   "source": [
    "pip install neurokit2"
   ]
  },
  {
   "cell_type": "code",
   "execution_count": 8,
   "metadata": {},
   "outputs": [],
   "source": [
    "import neurokit2 as nk\n",
    "import pyarrow.parquet as pq\n",
    "import pandas as pd"
   ]
  },
  {
   "cell_type": "code",
   "execution_count": 72,
   "metadata": {},
   "outputs": [
    {
     "name": "stdout",
     "output_type": "stream",
     "text": [
      "   Label  Event_Onset  ECG_Rate_Baseline  ECG_Rate_Max  ECG_Rate_Min  \\\n",
      "1      1          537          82.644628     -0.000426    -29.038195   \n",
      "2      2         1319          53.606227     -0.000206     -0.034798   \n",
      "3      3         1656          53.571429     37.890186      0.000618   \n",
      "4      4         1984          91.463415     -0.000266    -19.133682   \n",
      "5      5         2399          72.289157     -0.040563    -19.097574   \n",
      "6      6         2963          53.191489     13.448955      0.000122   \n",
      "7      7         3413          66.666667      9.090797      0.026130   \n",
      "8      8         3809          75.757576     -0.000192    -11.927652   \n",
      "9      9         4279          63.829787     16.289879      0.000120   \n",
      "10    10         4653          80.213904      0.000000    -80.213904   \n",
      "\n",
      "    ECG_Rate_Mean  ECG_Rate_SD  ECG_Rate_Max_Time  ECG_Rate_Min_Time  \\\n",
      "1      -19.766040    10.290398           0.002003           1.564000   \n",
      "2       -0.023203     0.010345           0.002006           0.674000   \n",
      "3       16.348409    13.057999           0.656000           0.002006   \n",
      "4       -8.450880     6.187616           0.002005           0.830000   \n",
      "5      -11.766277     6.008015           0.002004           1.128000   \n",
      "6        5.533316     4.350121           0.900000           0.002004   \n",
      "7        5.362383     2.874961           0.792000           0.002005   \n",
      "8       -6.227013     4.147694           0.002004           0.940000   \n",
      "9        5.336465     4.808647           0.748000           0.002005   \n",
      "10     -74.660880    20.361572           0.002000           0.694139   \n",
      "\n",
      "    ECG_Rate_Trend_Linear  ECG_Rate_Trend_Quadratic  ECG_Rate_Trend_R2  \\\n",
      "1              -50.898489                  4.668084           0.988500   \n",
      "2               -0.102852                  0.000007           1.000000   \n",
      "3               33.390882                 -2.228867           0.990825   \n",
      "4              -18.436534                  1.230252           0.995465   \n",
      "5              -30.626310                  0.842987           0.998206   \n",
      "6                7.895407                 -0.630429           0.996210   \n",
      "7               18.455036                 -0.380177           0.997233   \n",
      "8              -17.667103                  1.315536           0.988628   \n",
      "9               -0.956255                  0.087394           0.999895   \n",
      "10             -16.466069                -36.873707           0.432444   \n",
      "\n",
      "    ECG_Phase_Atrial  ECG_Phase_Completion_Atrial  ECG_Phase_Ventricular  \\\n",
      "1                0.0                     0.002058                    1.0   \n",
      "2                0.0                     0.478632                    0.0   \n",
      "3                0.0                     0.006757                    1.0   \n",
      "4                0.0                     0.003086                    1.0   \n",
      "5                0.0                     0.002146                    1.0   \n",
      "6                0.0                     0.002786                    1.0   \n",
      "7                0.0                     0.002959                    1.0   \n",
      "8                0.0                     0.002667                    1.0   \n",
      "9                0.0                     0.003704                    1.0   \n",
      "10               NaN                     0.000000                    1.0   \n",
      "\n",
      "    ECG_Phase_Completion_Ventricular  ECG_Quality_Mean  \n",
      "1                           0.005848          0.588714  \n",
      "2                           0.268559          0.107945  \n",
      "3                           0.005682          0.474415  \n",
      "4                           0.005348          0.927199  \n",
      "5                           0.015625          0.405183  \n",
      "6                           0.005495          0.460397  \n",
      "7                           0.005556          0.778821  \n",
      "8                           0.005587          0.864143  \n",
      "9                           0.012500          0.623205  \n",
      "10                          0.005495          0.000000  \n"
     ]
    },
    {
     "name": "stderr",
     "output_type": "stream",
     "text": [
      "/home/idies/miniconda3/lib/python3.8/site-packages/pandas/core/frame.py:4378: SettingWithCopyWarning: \n",
      "A value is trying to be set on a copy of a slice from a DataFrame\n",
      "\n",
      "See the caveats in the documentation: https://pandas.pydata.org/pandas-docs/stable/user_guide/indexing.html#returning-a-view-versus-a-copy\n",
      "  return super().replace(\n"
     ]
    }
   ],
   "source": [
    "ecg_path = \"SAFE/Databases/mimic-iv-ecg-parquet/10400173/06:57:00_13_01_2128_10400173.parquet\"\n",
    "ecg_col = pq.read_table(ecg_path).to_pandas()\n",
    "ecg_data = pd.to_numeric(ecg_col[\"I\"], errors = \"coerce\")\n",
    "signals, info = nk.ecg_process(ecg_data, sampling_rate = 500)\n",
    "\n",
    "# to viaulize: built in graphing\n",
    "# ecg_segment below is included in the graph\n",
    "#nk.ecg_plot(signals, info)\n",
    "\n",
    "# create epochs\n",
    "# currently just split up based on 1 second intervals\n",
    "# TODO: split based on rpeaks or qrs?\n",
    "rpeaks_indices = nk.ecg_findpeaks(signals)[\"ECG_R_Peaks\"]\n",
    "epochs = nk.epochs_create(signals, events = rpeaks_indices, sampling_rate=500)\n",
    "#print(epochs)\n",
    "\n",
    "features = nk.ecg_analyze(epochs) \n",
    "print(features)"
   ]
  },
  {
   "cell_type": "code",
   "execution_count": null,
   "metadata": {},
   "outputs": [],
   "source": []
  }
 ],
 "metadata": {
  "kernelspec": {
   "display_name": "Python 3",
   "language": "python",
   "name": "python3"
  },
  "language_info": {
   "codemirror_mode": {
    "name": "ipython",
    "version": 3
   },
   "file_extension": ".py",
   "mimetype": "text/x-python",
   "name": "python",
   "nbconvert_exporter": "python",
   "pygments_lexer": "ipython3",
   "version": "3.8.5"
  }
 },
 "nbformat": 4,
 "nbformat_minor": 4
}
